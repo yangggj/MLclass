{
 "cells": [
  {
   "cell_type": "markdown",
   "metadata": {},
   "source": [
    "This notebook is part of the [Machine Learning class](https://github.com/erachelson/MLclass) by [Emmanuel Rachelson](https://personnel.isae-supaero.fr/emmanuel-rachelson?lang=en).\n",
    "\n",
    "License: CC-BY-SA-NC."
   ]
  },
  {
   "cell_type": "markdown",
   "metadata": {},
   "source": [
    "<div style=\"font-size:22pt; line-height:25pt; font-weight:bold; text-align:center;\">Unsupervized Learning</div>\n",
    "\n",
    "Three Unsupervized Learning tasks are illustrated here:\n",
    "1. [Dimensionality reduction](#dim)\n",
    "2. [Clustering](#clust)\n",
    "3. [Density estimation](#density)"
   ]
  },
  {
   "cell_type": "markdown",
   "metadata": {},
   "source": [
    "# <a id=\"dim\"></a> 1. Dimensionality reduction"
   ]
  },
  {
   "cell_type": "code",
   "execution_count": null,
   "metadata": {
    "ExecuteTime": {
     "end_time": "2018-10-09T13:59:42.698507Z",
     "start_time": "2018-10-09T13:59:38.669643Z"
    }
   },
   "outputs": [],
   "source": [
    "from sklearn.datasets import load_boston\n",
    "\n",
    "boston = load_boston()\n",
    "X, y = boston['data'], boston['target']\n",
    "print(boston.DESCR)"
   ]
  },
  {
   "cell_type": "code",
   "execution_count": null,
   "metadata": {
    "ExecuteTime": {
     "end_time": "2018-10-09T14:01:58.175578Z",
     "start_time": "2018-10-09T14:01:57.493809Z"
    }
   },
   "outputs": [],
   "source": [
    "from sklearn.decomposition import PCA\n",
    "\n",
    "print(X.shape)\n",
    "\n",
    "boston_pca = PCA()\n",
    "boston_pca.fit(X)"
   ]
  },
  {
   "cell_type": "code",
   "execution_count": null,
   "metadata": {
    "ExecuteTime": {
     "end_time": "2018-10-09T14:02:06.538928Z",
     "start_time": "2018-10-09T14:02:06.530196Z"
    }
   },
   "outputs": [],
   "source": [
    "boston_pca.explained_variance_ratio_"
   ]
  },
  {
   "cell_type": "code",
   "execution_count": null,
   "metadata": {
    "ExecuteTime": {
     "end_time": "2018-10-09T14:02:22.661163Z",
     "start_time": "2018-10-09T14:02:21.310267Z"
    }
   },
   "outputs": [],
   "source": [
    "%matplotlib inline\n",
    "import matplotlib.pyplot as plt\n",
    "\n",
    "plt.bar(range(X.shape[1]), boston_pca.explained_variance_ratio_, color=\"r\", align=\"center\")"
   ]
  },
  {
   "cell_type": "code",
   "execution_count": null,
   "metadata": {
    "ExecuteTime": {
     "end_time": "2018-10-09T14:03:14.649368Z",
     "start_time": "2018-10-09T14:03:14.643864Z"
    }
   },
   "outputs": [],
   "source": [
    "import numpy as np\n",
    "\n",
    "np.sum(boston_pca.explained_variance_ratio_[:2])"
   ]
  },
  {
   "cell_type": "code",
   "execution_count": null,
   "metadata": {
    "ExecuteTime": {
     "end_time": "2018-10-09T14:03:30.847475Z",
     "start_time": "2018-10-09T14:03:30.757144Z"
    }
   },
   "outputs": [],
   "source": [
    "boston_pca = PCA(n_components=2)\n",
    "boston_pca.fit(X)\n",
    "X_proj = boston_pca.transform(X)"
   ]
  },
  {
   "cell_type": "code",
   "execution_count": null,
   "metadata": {
    "ExecuteTime": {
     "end_time": "2018-10-09T14:03:41.262609Z",
     "start_time": "2018-10-09T14:03:41.259532Z"
    }
   },
   "outputs": [],
   "source": [
    "X_proj.shape"
   ]
  },
  {
   "cell_type": "code",
   "execution_count": null,
   "metadata": {
    "ExecuteTime": {
     "end_time": "2018-10-09T14:03:56.960800Z",
     "start_time": "2018-10-09T14:03:56.746369Z"
    }
   },
   "outputs": [],
   "source": [
    "plt.scatter(X_proj[:,0],X_proj[:,1]);"
   ]
  },
  {
   "cell_type": "code",
   "execution_count": null,
   "metadata": {
    "ExecuteTime": {
     "end_time": "2018-10-09T14:03:59.546036Z",
     "start_time": "2018-10-09T14:03:59.542489Z"
    }
   },
   "outputs": [],
   "source": [
    "boston_pca.components_"
   ]
  },
  {
   "cell_type": "markdown",
   "metadata": {},
   "source": [
    "# <a id=\"clust\"></a> 2. Clustering"
   ]
  },
  {
   "cell_type": "code",
   "execution_count": null,
   "metadata": {
    "ExecuteTime": {
     "end_time": "2018-10-09T14:07:47.026961Z",
     "start_time": "2018-10-09T14:07:46.549862Z"
    }
   },
   "outputs": [],
   "source": [
    "from sklearn.cluster import KMeans\n",
    "boston_kmeans = KMeans(n_clusters=2)\n",
    "boston_kmeans.fit(X_proj)"
   ]
  },
  {
   "cell_type": "code",
   "execution_count": null,
   "metadata": {
    "ExecuteTime": {
     "end_time": "2018-10-09T14:08:20.636085Z",
     "start_time": "2018-10-09T14:08:20.449119Z"
    }
   },
   "outputs": [],
   "source": [
    "y_pred = boston_kmeans.predict(X_proj)\n",
    "plt.scatter(X_proj[:,0], X_proj[:,1], c=y_pred);"
   ]
  },
  {
   "cell_type": "markdown",
   "metadata": {},
   "source": [
    "See this [example](http://scikit-learn.org/stable/auto_examples/cluster/plot_cluster_comparison.html) for a great comparison."
   ]
  },
  {
   "cell_type": "markdown",
   "metadata": {},
   "source": [
    "# <a id=\"density\"></a> 3. Density estimation"
   ]
  },
  {
   "cell_type": "code",
   "execution_count": null,
   "metadata": {
    "ExecuteTime": {
     "end_time": "2018-10-09T14:12:23.242850Z",
     "start_time": "2018-10-09T14:12:23.102825Z"
    }
   },
   "outputs": [],
   "source": [
    "from sklearn import svm\n",
    "\n",
    "boston_ocsvm = svm.OneClassSVM(gamma = 1e-3)\n",
    "X1 = X_proj[y_pred==0,:]\n",
    "plt.scatter(X1[:,0], X1[:,1])"
   ]
  },
  {
   "cell_type": "code",
   "execution_count": null,
   "metadata": {
    "ExecuteTime": {
     "end_time": "2018-10-09T14:12:43.064330Z",
     "start_time": "2018-10-09T14:12:43.053282Z"
    }
   },
   "outputs": [],
   "source": [
    "boston_ocsvm.fit(X1)"
   ]
  },
  {
   "cell_type": "code",
   "execution_count": null,
   "metadata": {
    "ExecuteTime": {
     "end_time": "2018-10-09T14:14:33.524160Z",
     "start_time": "2018-10-09T14:14:32.202698Z"
    }
   },
   "outputs": [],
   "source": [
    "xmin = np.min(X1[:,0])\n",
    "xmax = np.max(X1[:,0])\n",
    "ymin = np.min(X1[:,1])\n",
    "ymax = np.max(X1[:,1])\n",
    "\n",
    "xx, yy = np.meshgrid(np.linspace(xmin, xmax, 500), np.linspace(ymin, ymax, 500))\n",
    "\n",
    "Z = boston_ocsvm.decision_function(np.c_[xx.ravel(), yy.ravel()])\n",
    "Z = Z.reshape(xx.shape)\n",
    "\n",
    "plt.contourf(xx, yy, Z, cmap=plt.cm.PuBu);\n",
    "#plt.scatter(X1[:,0], X1[:,1])"
   ]
  },
  {
   "cell_type": "code",
   "execution_count": null,
   "metadata": {
    "ExecuteTime": {
     "end_time": "2018-10-09T14:15:24.069862Z",
     "start_time": "2018-10-09T14:15:23.912117Z"
    }
   },
   "outputs": [],
   "source": [
    "plt.contourf(xx, yy, Z)"
   ]
  },
  {
   "cell_type": "code",
   "execution_count": null,
   "metadata": {},
   "outputs": [],
   "source": []
  },
  {
   "cell_type": "code",
   "execution_count": null,
   "metadata": {},
   "outputs": [],
   "source": []
  },
  {
   "cell_type": "code",
   "execution_count": null,
   "metadata": {},
   "outputs": [],
   "source": []
  }
 ],
 "metadata": {
  "kernelspec": {
   "display_name": "Python 3",
   "language": "python",
   "name": "python3"
  },
  "language_info": {
   "codemirror_mode": {
    "name": "ipython",
    "version": 3
   },
   "file_extension": ".py",
   "mimetype": "text/x-python",
   "name": "python",
   "nbconvert_exporter": "python",
   "pygments_lexer": "ipython3",
   "version": "3.6.4"
  },
  "toc": {
   "base_numbering": 1,
   "nav_menu": {},
   "number_sections": true,
   "sideBar": true,
   "skip_h1_title": false,
   "title_cell": "Table of Contents",
   "title_sidebar": "Contents",
   "toc_cell": false,
   "toc_position": {},
   "toc_section_display": true,
   "toc_window_display": false
  }
 },
 "nbformat": 4,
 "nbformat_minor": 2
}
